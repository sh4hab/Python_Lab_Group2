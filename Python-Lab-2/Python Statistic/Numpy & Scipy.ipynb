{
 "cells": [
  {
   "cell_type": "code",
   "execution_count": 27,
   "id": "b33f05df",
   "metadata": {},
   "outputs": [
    {
     "name": "stdout",
     "output_type": "stream",
     "text": [
      "first array:\n",
      " [0 1 2 3 4 5]\n",
      "\n",
      "reshaped array1:\n",
      " [[0 1 2]\n",
      " [3 4 5]]\n",
      "\n",
      "second array:\n",
      " [[0 1 2]\n",
      " [3 4 5]\n",
      " [6 7 8]]\n",
      "\n",
      "stack :\n",
      " [[0 1 2]\n",
      " [3 4 5]\n",
      " [0 1 2]\n",
      " [3 4 5]\n",
      " [6 7 8]]\n",
      "\n",
      "ravel :\n",
      " [0 1 2 3 4 5 0 1 2 3 4 5 6 7 8]\n",
      "\n",
      "argmax :\n",
      " 14\n"
     ]
    }
   ],
   "source": [
    "import numpy as np\n",
    "\n",
    "arr1= np.arange(6)\n",
    "print(\"first array:\\n\", arr1)\n",
    "\n",
    "arr1=arr1.reshape((2,3))\n",
    "print(\"\\nreshaped array1:\\n\",arr1)\n",
    "\n",
    "arr2=np.arange(9).reshape(3,3)\n",
    "print(\"\\nsecond array:\\n\", arr2)\n",
    "\n",
    "arr = np.vstack((arr1, arr2))\n",
    "print(\"\\nstack :\\n\", arr)\n",
    "\n",
    "arr=arr.ravel()\n",
    "print(\"\\nravel :\\n\", arr)\n",
    "\n",
    "print(\"\\nargmax :\\n\", np.argmax(arr))"
   ]
  },
  {
   "cell_type": "code",
   "execution_count": 51,
   "id": "89c46dc4",
   "metadata": {},
   "outputs": [
    {
     "name": "stdout",
     "output_type": "stream",
     "text": [
      "\n",
      "Transpose of A:\n",
      " [[3 1 2]\n",
      " [1 5 6]\n",
      " [4 9 5]]\n",
      "\n",
      "Inverse of A:\n",
      " [[ 0.32222222 -0.21111111  0.12222222]\n",
      " [-0.14444444 -0.07777778  0.25555556]\n",
      " [ 0.04444444  0.17777778 -0.15555556]]\n",
      "\n",
      "Determinant of A:\n",
      " -90.0\n",
      "\n",
      "eig(A) :\n",
      " [13.08576474  2.58000566 -2.66577041] \n",
      "\n",
      " [[-0.31542644 -0.95117074 -0.32372474]\n",
      " [-0.72306109  0.30781323 -0.70222933]\n",
      " [-0.61456393  0.02291827  0.63409484]]\n",
      "\n",
      "SVD of A:\n",
      " [[-0.32463251  0.79898436  0.50619929]\n",
      " [-0.75307473  0.1054674  -0.64942672]\n",
      " [-0.57226932 -0.59203093  0.56745679]] \n",
      "\n",
      " [13.58235799  2.84547726  2.32869289] \n",
      "\n",
      " [[-0.21141476 -0.55392606 -0.80527617]\n",
      " [ 0.46331722 -0.78224635  0.41644663]\n",
      " [ 0.86060499  0.28505536 -0.42202191]]\n",
      "\n",
      "qr factorization of A:\n",
      " [[-0.80178373  0.56829114 -0.18490007]\n",
      " [-0.26726124 -0.61770776 -0.73960026]\n",
      " [-0.53452248 -0.54358283  0.64715023]] \n",
      "\n",
      " [[-3.74165739 -5.34522484 -8.2850985 ]\n",
      " [ 0.         -5.78174467 -6.00411946]\n",
      " [ 0.          0.         -4.16025147]]\n",
      "\n",
      "X= \n",
      " [[-0.32222222]\n",
      " [-0.85555556]\n",
      " [ 0.95555556]]\n"
     ]
    }
   ],
   "source": [
    "A = np.mat([[3,1,4],[1,5,9],[2,6,5]])\n",
    "b = np.mat( [2,4,-1])\n",
    "\n",
    "print(\"\\nTranspose of A:\\n\", np.transpose(A))\n",
    "\n",
    "print(\"\\nInverse of A:\\n\", np.linalg.inv(A))\n",
    "\n",
    "print(\"\\nDeterminant of A:\\n\", np.linalg.det(A))\n",
    "\n",
    "\n",
    "\n",
    "c,d = np.linalg.eig(A)\n",
    "print(\"\\neig(A) :\\n\", c,\"\\n\\n\", d)\n",
    "\n",
    "m,n,p=np.linalg.svd(A)\n",
    "print(\"\\nSVD of A:\\n\", m,\"\\n\\n\",n,\"\\n\\n\",p)\n",
    "\n",
    "\n",
    "s,t= linalg.qr(A)\n",
    "print(\"\\nqr factorization of A:\\n\", s,\"\\n\\n\",t)\n",
    "\n",
    "\n",
    "\n",
    "B=np.transpose(b)\n",
    "\n",
    "\n",
    "print(\"\\nX= \\n\", np.linalg.solve(A, B))"
   ]
  },
  {
   "cell_type": "code",
   "execution_count": 119,
   "id": "6caacf8f",
   "metadata": {},
   "outputs": [
    {
     "data": {
      "text/plain": [
       "<Figure size 432x288 with 0 Axes>"
      ]
     },
     "metadata": {},
     "output_type": "display_data"
    },
    {
     "data": {
      "image/png": "[encoded data removed]",
      "text/plain": [
       "<Figure size 432x288 with 2 Axes>"
      ]
     },
     "metadata": {
      "needs_background": "light"
     },
     "output_type": "display_data"
    }
   ],
   "source": [
    "import math\n",
    "import matplotlib.pyplot as plt\n",
    "\n",
    "t = np.random.randint(-10*int(math.pi), 10*int(math.pi), 1000, dtype=int)\n",
    "#print(t)\n",
    "t= np.sort(t)\n",
    "#print(\"\\nt :\\n\",t)\n",
    "\n",
    "y=np.sinc(t)\n",
    "#print(\"\\ny=sinc(t) :\\n\",y)\n",
    "\n",
    "z=np.fft.fft(y)\n",
    "#print(\"\\nz=fft(y) :\\n\",z)\n",
    "\n",
    "#fig = plt.figure()\n",
    "#ax11 = plt.subplot2grid((2,2), (0,0))\n",
    "##ax12 = plt.subplot2grid((2,2), (0,1))\n",
    "#plt.plot(range(1,1001), t, label='Main Function', ax=ax11)\n",
    "#plt.plot(range(1,1001), abs(z), label='Fourier transform abs', ax=ax12)\n",
    "\n",
    "fig = plt.figure()\n",
    "fig, axs = plt.subplots(2)\n",
    "\n",
    "axs[0].plot(range(1,1001), t)\n",
    "axs[0].set(xlabel='', ylabel='Main Function',\n",
    "       title='Figure')\n",
    "\n",
    "axs[1].plot(range(1,1001), abs(z))\n",
    "axs[1].set(xlabel='X Values', ylabel='Fourier Transform abs',\n",
    "       title='')\n",
    "\n",
    "\n",
    "plt.savefig('figure.png')"
   ]
  },
  {
   "cell_type": "code",
   "execution_count": null,
   "id": "4f94f1aa",
   "metadata": {},
   "outputs": [],
   "source": []
  }
 ],
 "metadata": {
  "kernelspec": {
   "display_name": "Python 3",
   "language": "python",
   "name": "python3"
  },
  "language_info": {
   "codemirror_mode": {
    "name": "ipython",
    "version": 3
   },
   "file_extension": ".py",
   "mimetype": "text/x-python",
   "name": "python",
   "nbconvert_exporter": "python",
   "pygments_lexer": "ipython3",
   "version": "3.8.8"
  }
 },
 "nbformat": 4,
 "nbformat_minor": 5
}
