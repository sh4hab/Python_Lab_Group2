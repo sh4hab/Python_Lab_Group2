{
 "cells": [
  {
   "cell_type": "code",
   "execution_count": 18,
   "id": "a6886a3b",
   "metadata": {},
   "outputs": [
    {
     "name": "stdout",
     "output_type": "stream",
     "text": [
      "    A   B   C   D\n",
      "1   4  59  74  36\n",
      "2  56  28  65  86\n",
      "3   7  27  16  30\n",
      "4  39  97   4  62\n",
      "5  33  12  30  24\n",
      "6  15   8  16  68\n"
     ]
    }
   ],
   "source": [
    "import pandas as pd\n",
    "import numpy as np\n",
    "\n",
    "indexes=[1,2,3,4,5,6]\n",
    "columns=['A','B','C','D']\n",
    "\n",
    "df= pd.DataFrame(np.random.randint(0,100,size=(6,4)), columns=columns, index=indexes)\n",
    "print(df)"
   ]
  },
  {
   "cell_type": "code",
   "execution_count": 19,
   "id": "cf13e4ba",
   "metadata": {},
   "outputs": [
    {
     "name": "stdout",
     "output_type": "stream",
     "text": [
      "    A   B   C   D\n",
      "1   4  59  74  36\n",
      "2  56  28  65  86\n",
      "    A   B   C   D\n",
      "5  33  12  30  24\n",
      "6  15   8  16  68\n"
     ]
    }
   ],
   "source": [
    "print(df.head(2))\n",
    "print(df.tail(2))"
   ]
  },
  {
   "cell_type": "code",
   "execution_count": 20,
   "id": "2a101668",
   "metadata": {},
   "outputs": [
    {
     "name": "stdout",
     "output_type": "stream",
     "text": [
      "[[ 4 59 74 36]\n",
      " [56 28 65 86]\n",
      " [ 7 27 16 30]\n",
      " [39 97  4 62]\n",
      " [33 12 30 24]\n",
      " [15  8 16 68]]\n",
      "\n",
      "\n",
      "Int64Index([1, 2, 3, 4, 5, 6], dtype='int64')\n",
      "\n",
      "\n",
      "Index(['A', 'B', 'C', 'D'], dtype='object')\n",
      "\n",
      "\n",
      "<bound method NDFrame.describe of     A   B   C   D\n",
      "1   4  59  74  36\n",
      "2  56  28  65  86\n",
      "3   7  27  16  30\n",
      "4  39  97   4  62\n",
      "5  33  12  30  24\n",
      "6  15   8  16  68>\n"
     ]
    }
   ],
   "source": [
    "print(df.values)\n",
    "print('\\n')\n",
    "print(df.index)\n",
    "print('\\n')\n",
    "print(df.columns)\n",
    "print('\\n')\n",
    "print(df.describe)"
   ]
  },
  {
   "cell_type": "code",
   "execution_count": 23,
   "id": "d5df32fe",
   "metadata": {},
   "outputs": [
    {
     "name": "stdout",
     "output_type": "stream",
     "text": [
      "    A   B   C   D\n",
      "4  39  97   4  62\n",
      "1   4  59  74  36\n",
      "2  56  28  65  86\n",
      "3   7  27  16  30\n",
      "5  33  12  30  24\n",
      "6  15   8  16  68\n"
     ]
    }
   ],
   "source": [
    "df= df.sort_values(by=['B','C'] , ascending=[False, True])\n",
    "print(df)"
   ]
  },
  {
   "cell_type": "code",
   "execution_count": 26,
   "id": "be6778fc",
   "metadata": {},
   "outputs": [
    {
     "name": "stdout",
     "output_type": "stream",
     "text": [
      "1    1\n",
      "2    2\n",
      "3    3\n",
      "4    4\n",
      "5    5\n",
      "6    6\n",
      "dtype: int64\n",
      "\n",
      "\n",
      "    A   B   C   D  F\n",
      "4  39  97   4  62  4\n",
      "1   4  59  74  36  1\n",
      "2  56  28  65  86  2\n",
      "3   7  27  16  30  3\n",
      "5  33  12  30  24  5\n",
      "6  15   8  16  68  6\n"
     ]
    }
   ],
   "source": [
    "S=pd.Series([1,2,3,4,5,6], index=indexes)\n",
    "print(S)\n",
    "print('\\n')\n",
    "df['F']=S\n",
    "print(df)"
   ]
  },
  {
   "cell_type": "code",
   "execution_count": 38,
   "id": "df016254",
   "metadata": {},
   "outputs": [
    {
     "name": "stdout",
     "output_type": "stream",
     "text": [
      "      A     B     C     D    F\n",
      "4  39.0  97.0   4.0  62.0  4.0\n",
      "1   4.0  59.0  74.0  36.0  1.0\n",
      "2  56.0  28.0  65.0  86.0  2.0\n",
      "3   7.0  27.0  16.0  30.0  NaN\n",
      "5  33.0  12.0  30.0  24.0  NaN\n",
      "6  15.0   8.0  16.0  68.0  6.0\n",
      "\n",
      "\n",
      "      A    F\n",
      "1   4.0  1.0\n",
      "2  56.0  2.0\n",
      "3   7.0  NaN\n"
     ]
    }
   ],
   "source": [
    "df=df.astype(float)\n",
    "df.at[3,'F']= np.nan\n",
    "df.at[5,'F']= np.nan\n",
    "print(df)\n",
    "print('\\n')\n",
    "result = df.loc[[1,2,3], ['A', 'F']]\n",
    "print(result)"
   ]
  },
  {
   "cell_type": "code",
   "execution_count": 40,
   "id": "fd984a40",
   "metadata": {},
   "outputs": [
    {
     "name": "stdout",
     "output_type": "stream",
     "text": [
      "      A     B     C     D    F\n",
      "4  39.0  97.0   4.0  62.0  4.0\n",
      "1   4.0  59.0  74.0  36.0  1.0\n",
      "2  56.0  28.0  65.0  86.0  2.0\n",
      "6  15.0   8.0  16.0  68.0  6.0\n"
     ]
    }
   ],
   "source": [
    "df1= df.dropna()\n",
    "print(df1)"
   ]
  },
  {
   "cell_type": "code",
   "execution_count": 41,
   "id": "007ce43b",
   "metadata": {},
   "outputs": [
    {
     "name": "stdout",
     "output_type": "stream",
     "text": [
      "      A     B     C     D     F\n",
      "4  39.0  97.0   4.0  62.0  4.00\n",
      "1   4.0  59.0  74.0  36.0  1.00\n",
      "2  56.0  28.0  65.0  86.0  2.00\n",
      "3   7.0  27.0  16.0  30.0  3.25\n",
      "5  33.0  12.0  30.0  24.0  3.25\n",
      "6  15.0   8.0  16.0  68.0  6.00\n"
     ]
    }
   ],
   "source": [
    "df2= df.fillna(df['F'].mean())\n",
    "print(df2)"
   ]
  },
  {
   "cell_type": "code",
   "execution_count": null,
   "id": "f71350aa",
   "metadata": {},
   "outputs": [],
   "source": []
  }
 ],
 "metadata": {
  "kernelspec": {
   "display_name": "Python 3",
   "language": "python",
   "name": "python3"
  },
  "language_info": {
   "codemirror_mode": {
    "name": "ipython",
    "version": 3
   },
   "file_extension": ".py",
   "mimetype": "text/x-python",
   "name": "python",
   "nbconvert_exporter": "python",
   "pygments_lexer": "ipython3",
   "version": "3.8.8"
  }
 },
 "nbformat": 4,
 "nbformat_minor": 5
}
